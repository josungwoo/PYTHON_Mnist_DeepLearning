{
 "cells": [
  {
   "cell_type": "markdown",
   "metadata": {},
   "source": [
    "> 이 문서의 폰트크기는 브라우저 인쇄시 인쇄 배율 80%로 최적화 되어 있음"
   ]
  },
  {
   "cell_type": "markdown",
   "metadata": {},
   "source": [
    "# MNIST 분류용 FNN의 Inference 파트 (Simoid 함수 사용)\n",
    "> 1. 신경망 구현 보조 함수 정의\n",
    ">\n",
    ">\n",
    "\n",
    "    - 개요 : MNIST 테스트 및 훈련 데이터의 예측 정확도 계산\n",
    "    - 아키텍처 : 사전에 훈련된 가중치/편향 파일(pickle 형식)을 사용\n",
    "      - 사전훈련된 가중치 업로드 세팅 : ch4_40_fnn_mnist_sig.pkl\n",
    "                            (훈련시 가중치는 표준편차 0.1의 Gauss 분포)\n",
    "      - 입력층(784)\n",
    "      - 계층1(50)  : 은닉충, Sigmoid 함수 사용\n",
    "      - 계층2(10)  : 출력층, Sigmoid 함수 사용\n",
    "      - 소프트맥스\n",
    "    - 동작모델 : 샘플모드(각 샘플별 역전파)와 배치모드 각각 구현"
   ]
  },
  {
   "cell_type": "code",
   "execution_count": 23,
   "metadata": {},
   "outputs": [],
   "source": [
    "# multi line 출력을 위한 셀 -- 필요없으면 아래 두 라인을 주석(#) 처리해서 기능 해제\n",
    "#from IPython.core.interactiveshell import InteractiveShell\n",
    "#InteractiveShell.ast_node_interactivity = \"all\""
   ]
  },
  {
   "cell_type": "code",
   "execution_count": 24,
   "metadata": {},
   "outputs": [],
   "source": [
    "# 팝업 창을 띠우지 않고 주피터 노트북 안에 그림을 그리라는 명령\n",
    "%matplotlib inline  \n",
    "\n",
    "import numpy as np\n",
    "from mnist.mnist import load_mnist\n",
    "import pickle"
   ]
  },
  {
   "cell_type": "markdown",
   "metadata": {},
   "source": [
    "# 1. 신경망 구현 보조 함수 정의"
   ]
  },
  {
   "cell_type": "code",
   "execution_count": 25,
   "metadata": {
    "scrolled": true
   },
   "outputs": [],
   "source": [
    "def sigmoid(x):\n",
    "    return 1 / (1 + np.exp(-x))\n",
    "\n",
    "def softmax(x):\n",
    "    if x.ndim == 2:\n",
    "        x = x - np.max(x, axis=1).reshape(-1, 1)\n",
    "        x = np.exp(x) / np.sum(np.exp(x), axis=1).reshape(-1, 1)\n",
    "    else:\n",
    "        x = x - np.max(x)  # 오버플로 대책\n",
    "        x = np.exp(x) / np.sum(np.exp(x))\n",
    "\n",
    "    return x"
   ]
  },
  {
   "cell_type": "markdown",
   "metadata": {},
   "source": [
    "# 2. 신경망 모델 생성 및 추론 관련 함수"
   ]
  },
  {
   "cell_type": "markdown",
   "metadata": {},
   "source": [
    "### 네트워크 생성 함수\n",
    "- 학습된 신경망의 가중치/편향을 신경망(net)에 업로드"
   ]
  },
  {
   "cell_type": "code",
   "execution_count": 26,
   "metadata": {},
   "outputs": [
    {
     "name": "stdout",
     "output_type": "stream",
     "text": [
      "[[-0.00391574  0.00235982  0.15405002 ...  0.07643579  0.04048303\n",
      "   0.17894486]\n",
      " [ 0.1048934  -0.03625136 -0.07409769 ...  0.15310726  0.07670112\n",
      "   0.04780273]\n",
      " [-0.23270108 -0.02838503  0.03953473 ... -0.06615517 -0.0363144\n",
      "   0.1027033 ]\n",
      " ...\n",
      " [-0.05065644  0.04485779 -0.16198439 ... -0.06044266 -0.01613528\n",
      "   0.02149604]\n",
      " [-0.13772163  0.02926289  0.03767156 ... -0.15479492 -0.02446951\n",
      "  -0.02706205]\n",
      " [-0.03207722 -0.03754213  0.14087992 ... -0.02328948  0.19048743\n",
      "  -0.03575524]]\n"
     ]
    }
   ],
   "source": [
    "def setup_network():\n",
    "    with open(\"52-fnn-mnist-sig.pkl\", 'rb') as f:\n",
    "        net = pickle.load(f)\n",
    "    return net\n",
    "\n",
    "test_net = setup_network()\n",
    "W1 = test_net['W1']; \n",
    "print(W1)"
   ]
  },
  {
   "cell_type": "markdown",
   "metadata": {},
   "source": [
    "###  추론 함수"
   ]
  },
  {
   "cell_type": "code",
   "execution_count": 27,
   "metadata": {},
   "outputs": [],
   "source": [
    "def setup_network():\n",
    "    with open(\"52-fnn-mnist-sig.pkl\", 'rb') as f:\n",
    "        net = pickle.load(f)\n",
    "        #W1, W2 = net['W1'], net['W2']\n",
    "        #b1, b2 = net['b1'], net['b2']\n",
    "        #print(W1)\n",
    "    return net\n",
    "\n",
    "def predict(net, x):\n",
    "    W1, W2 = net['W1'], net['W2']\n",
    "    b1, b2 = net['b1'], net['b2']\n",
    "\n",
    "    v1 = np.dot(x, W1) + b1\n",
    "    h1 = sigmoid(v1)\n",
    "\n",
    "    #print(\"h1 :\", h1)\n",
    "    v2 = np.dot(h1, W2) + b2\n",
    "    h2 = sigmoid(v2)\n",
    "    #print(\"h2 :\", h2)\n",
    "\n",
    "    y = softmax(h2)\n",
    "    #print(\"y :\", y)\n",
    "\n",
    "    return y"
   ]
  },
  {
   "cell_type": "code",
   "execution_count": 28,
   "metadata": {},
   "outputs": [],
   "source": [
    "def predict(net, x):\n",
    "    W1, W2 = net['W1'], net['W2']\n",
    "    b1, b2 = net['b1'], net['b2']\n",
    "\n",
    "    v1 = np.dot(x, W1) + b1\n",
    "    h1 = sigmoid(v1)\n",
    "\n",
    "    v2 = np.dot(h1, W2) + b2\n",
    "    h2 = sigmoid(v2)\n",
    "\n",
    "    y = softmax(h2)\n",
    "\n",
    "    return y"
   ]
  },
  {
   "cell_type": "markdown",
   "metadata": {},
   "source": [
    "# 3. 메인 로직"
   ]
  },
  {
   "cell_type": "markdown",
   "metadata": {},
   "source": [
    "## 3.1 MNIST 데이터셋 로딩 및 신경망 생성"
   ]
  },
  {
   "cell_type": "code",
   "execution_count": 29,
   "metadata": {},
   "outputs": [],
   "source": [
    "# MNIST 훈련 및 시험 데이터 적재\n",
    "(x_train, d_train), (x_test, d_test) = load_mnist(normalize=True,\n",
    "                                                  flatten=True,\n",
    "                                                  one_hot_label=False)\n",
    "# 네트워크 생성\n",
    "FNN = setup_network()"
   ]
  },
  {
   "cell_type": "markdown",
   "metadata": {},
   "source": [
    "## 3.2 단일 샘플 모드 추론"
   ]
  },
  {
   "cell_type": "code",
   "execution_count": 30,
   "metadata": {},
   "outputs": [
    {
     "name": "stdout",
     "output_type": "stream",
     "text": [
      " 훈련 데이터 정확도: 0.87725\n",
      " 테스트 데이터 정확도 : 0.8836\n"
     ]
    }
   ],
   "source": [
    "# ------ 훈련 데이터에 대한 정확도 계산\n",
    "accuracy_counter = 0\n",
    "for i in range(len(x_train)):\n",
    "    y = predict(FNN, x_train[i])\n",
    "    #print(y)\n",
    "    category = np.argmax(y)     # 가장 큰 확률를 갖는 숫자\n",
    "    if category == d_train[i]:\n",
    "        accuracy_counter += 1\n",
    "\n",
    "print(\" 훈련 데이터 정확도: %s\" % (float(accuracy_counter) / len(x_train)) )\n",
    "\n",
    "# ------  테스트 데이터에 대한 정확도 계산\n",
    "accuracy_counter = 0\n",
    "for i in range(len(x_test)):\n",
    "    y = predict(FNN, x_test[i])\n",
    "    category = np.argmax(y)     # 가장 큰 확률를 갖는 숫자\n",
    "    if category == d_test[i]:\n",
    "        accuracy_counter += 1\n",
    "\n",
    "print(\" 테스트 데이터 정확도 : %s\" % (float(accuracy_counter) / len(x_test)) )"
   ]
  },
  {
   "cell_type": "markdown",
   "metadata": {},
   "source": [
    "## 3.3 배치 모드 추론"
   ]
  },
  {
   "cell_type": "code",
   "execution_count": 31,
   "metadata": {},
   "outputs": [
    {
     "name": "stdout",
     "output_type": "stream",
     "text": [
      " 훈련데이터 정확도 : 0.87725\n",
      " 시험 데이터 정확도 : 0.8836\n"
     ]
    }
   ],
   "source": [
    "# ------ 훈련 데이터에 대한 정확도 계산\n",
    "BATCH_SIZE = 100 # 배치 크기\n",
    "accuracy_counter = 0\n",
    "\n",
    "for i in range(0, len(x_train), BATCH_SIZE):\n",
    "    x_batch = x_train[i : i + BATCH_SIZE]\n",
    "    y_batch = predict(FNN, x_batch)\n",
    "    category = np.argmax(y_batch, axis=1)\n",
    "    accuracy_counter += np.sum(category == d_train[i : i+BATCH_SIZE])\n",
    "\n",
    "print(\" 훈련데이터 정확도 : %s\" % (float(accuracy_counter) / len(x_train)) )\n",
    "\n",
    "# ------  테스트 데이터에 대한 정확도 계산\n",
    "BATCH_SIZE = 100 # 배치 크기\n",
    "accuracy_counter = 0\n",
    "\n",
    "for i in range(0, len(x_test), BATCH_SIZE):\n",
    "    x_batch = x_test[i:i+BATCH_SIZE]\n",
    "    y_batch = predict(FNN, x_batch)\n",
    "    category = np.argmax(y_batch, axis=1)\n",
    "    accuracy_counter += np.sum(category == d_test[i:i+BATCH_SIZE])\n",
    "\n",
    "print(\" 시험 데이터 정확도 : %s\" % (float(accuracy_counter) / len(x_test)))"
   ]
  }
 ],
 "metadata": {
  "accelerator": "GPU",
  "colab": {
   "collapsed_sections": [],
   "name": "PyTorch_chapter1.ipynb",
   "provenance": [
    {
     "file_id": "1uoOWiCZ8I3qClWEt4N0A0EO0OjOjWZwf",
     "timestamp": 1543828054136
    }
   ],
   "version": "0.3.2"
  },
  "kernelspec": {
   "display_name": "Python 3 (ipykernel)",
   "language": "python",
   "name": "python3"
  },
  "language_info": {
   "codemirror_mode": {
    "name": "ipython",
    "version": 3
   },
   "file_extension": ".py",
   "mimetype": "text/x-python",
   "name": "python",
   "nbconvert_exporter": "python",
   "pygments_lexer": "ipython3",
   "version": "3.9.7"
  }
 },
 "nbformat": 4,
 "nbformat_minor": 1
}
